{
 "cells": [
  {
   "cell_type": "code",
   "execution_count": 1,
   "metadata": {},
   "outputs": [],
   "source": [
    "import pandas as pd\n",
    "import numpy as np\n",
    "import seaborn as sns\n",
    "import matplotlib.pyplot as plt\n",
    "from sklearn.model_selection import train_test_split\n",
    "from sklearn.linear_model import LinearRegression\n",
    "from sklearn.preprocessing import StandardScaler\n",
    "from sklearn.metrics import r2_score, mean_absolute_error, mean_squared_error\n",
    "\n",
    "%matplotlib inline"
   ]
  },
  {
   "cell_type": "code",
   "execution_count": 2,
   "metadata": {},
   "outputs": [],
   "source": [
    "walmart_data = pd.read_csv('Walmart_Store_sales.csv')"
   ]
  },
  {
   "cell_type": "code",
   "execution_count": 3,
   "metadata": {},
   "outputs": [
    {
     "data": {
      "text/html": [
       "<div>\n",
       "<style scoped>\n",
       "    .dataframe tbody tr th:only-of-type {\n",
       "        vertical-align: middle;\n",
       "    }\n",
       "\n",
       "    .dataframe tbody tr th {\n",
       "        vertical-align: top;\n",
       "    }\n",
       "\n",
       "    .dataframe thead th {\n",
       "        text-align: right;\n",
       "    }\n",
       "</style>\n",
       "<table border=\"1\" class=\"dataframe\">\n",
       "  <thead>\n",
       "    <tr style=\"text-align: right;\">\n",
       "      <th></th>\n",
       "      <th>Store</th>\n",
       "      <th>Date</th>\n",
       "      <th>Weekly_Sales</th>\n",
       "      <th>Holiday_Flag</th>\n",
       "      <th>Temperature</th>\n",
       "      <th>Fuel_Price</th>\n",
       "      <th>CPI</th>\n",
       "      <th>Unemployment</th>\n",
       "    </tr>\n",
       "  </thead>\n",
       "  <tbody>\n",
       "    <tr>\n",
       "      <th>0</th>\n",
       "      <td>1</td>\n",
       "      <td>05-02-2010</td>\n",
       "      <td>1643690.90</td>\n",
       "      <td>0</td>\n",
       "      <td>42.31</td>\n",
       "      <td>2.572</td>\n",
       "      <td>211.096358</td>\n",
       "      <td>8.106</td>\n",
       "    </tr>\n",
       "    <tr>\n",
       "      <th>1</th>\n",
       "      <td>1</td>\n",
       "      <td>12-02-2010</td>\n",
       "      <td>1641957.44</td>\n",
       "      <td>1</td>\n",
       "      <td>38.51</td>\n",
       "      <td>2.548</td>\n",
       "      <td>211.242170</td>\n",
       "      <td>8.106</td>\n",
       "    </tr>\n",
       "    <tr>\n",
       "      <th>2</th>\n",
       "      <td>1</td>\n",
       "      <td>19-02-2010</td>\n",
       "      <td>1611968.17</td>\n",
       "      <td>0</td>\n",
       "      <td>39.93</td>\n",
       "      <td>2.514</td>\n",
       "      <td>211.289143</td>\n",
       "      <td>8.106</td>\n",
       "    </tr>\n",
       "    <tr>\n",
       "      <th>3</th>\n",
       "      <td>1</td>\n",
       "      <td>26-02-2010</td>\n",
       "      <td>1409727.59</td>\n",
       "      <td>0</td>\n",
       "      <td>46.63</td>\n",
       "      <td>2.561</td>\n",
       "      <td>211.319643</td>\n",
       "      <td>8.106</td>\n",
       "    </tr>\n",
       "    <tr>\n",
       "      <th>4</th>\n",
       "      <td>1</td>\n",
       "      <td>05-03-2010</td>\n",
       "      <td>1554806.68</td>\n",
       "      <td>0</td>\n",
       "      <td>46.50</td>\n",
       "      <td>2.625</td>\n",
       "      <td>211.350143</td>\n",
       "      <td>8.106</td>\n",
       "    </tr>\n",
       "  </tbody>\n",
       "</table>\n",
       "</div>"
      ],
      "text/plain": [
       "   Store        Date  Weekly_Sales  Holiday_Flag  Temperature  Fuel_Price  \\\n",
       "0      1  05-02-2010    1643690.90             0        42.31       2.572   \n",
       "1      1  12-02-2010    1641957.44             1        38.51       2.548   \n",
       "2      1  19-02-2010    1611968.17             0        39.93       2.514   \n",
       "3      1  26-02-2010    1409727.59             0        46.63       2.561   \n",
       "4      1  05-03-2010    1554806.68             0        46.50       2.625   \n",
       "\n",
       "          CPI  Unemployment  \n",
       "0  211.096358         8.106  \n",
       "1  211.242170         8.106  \n",
       "2  211.289143         8.106  \n",
       "3  211.319643         8.106  \n",
       "4  211.350143         8.106  "
      ]
     },
     "execution_count": 3,
     "metadata": {},
     "output_type": "execute_result"
    }
   ],
   "source": [
    "walmart_data.head()"
   ]
  },
  {
   "cell_type": "code",
   "execution_count": 4,
   "metadata": {},
   "outputs": [],
   "source": [
    "walmart_data['Weekly_Sales'] = walmart_data['Weekly_Sales'].values.astype(np.int32)"
   ]
  },
  {
   "cell_type": "code",
   "execution_count": 5,
   "metadata": {},
   "outputs": [
    {
     "data": {
      "text/html": [
       "<div>\n",
       "<style scoped>\n",
       "    .dataframe tbody tr th:only-of-type {\n",
       "        vertical-align: middle;\n",
       "    }\n",
       "\n",
       "    .dataframe tbody tr th {\n",
       "        vertical-align: top;\n",
       "    }\n",
       "\n",
       "    .dataframe thead th {\n",
       "        text-align: right;\n",
       "    }\n",
       "</style>\n",
       "<table border=\"1\" class=\"dataframe\">\n",
       "  <thead>\n",
       "    <tr style=\"text-align: right;\">\n",
       "      <th></th>\n",
       "      <th>Store</th>\n",
       "      <th>Weekly_Sales</th>\n",
       "      <th>Holiday_Flag</th>\n",
       "      <th>Temperature</th>\n",
       "      <th>Fuel_Price</th>\n",
       "      <th>CPI</th>\n",
       "      <th>Unemployment</th>\n",
       "    </tr>\n",
       "  </thead>\n",
       "  <tbody>\n",
       "    <tr>\n",
       "      <th>count</th>\n",
       "      <td>6435.000000</td>\n",
       "      <td>6.435000e+03</td>\n",
       "      <td>6435.000000</td>\n",
       "      <td>6435.000000</td>\n",
       "      <td>6435.000000</td>\n",
       "      <td>6435.000000</td>\n",
       "      <td>6435.000000</td>\n",
       "    </tr>\n",
       "    <tr>\n",
       "      <th>mean</th>\n",
       "      <td>23.000000</td>\n",
       "      <td>1.046964e+06</td>\n",
       "      <td>0.069930</td>\n",
       "      <td>60.663782</td>\n",
       "      <td>3.358607</td>\n",
       "      <td>171.578394</td>\n",
       "      <td>7.999151</td>\n",
       "    </tr>\n",
       "    <tr>\n",
       "      <th>std</th>\n",
       "      <td>12.988182</td>\n",
       "      <td>5.643666e+05</td>\n",
       "      <td>0.255049</td>\n",
       "      <td>18.444933</td>\n",
       "      <td>0.459020</td>\n",
       "      <td>39.356712</td>\n",
       "      <td>1.875885</td>\n",
       "    </tr>\n",
       "    <tr>\n",
       "      <th>min</th>\n",
       "      <td>1.000000</td>\n",
       "      <td>2.099860e+05</td>\n",
       "      <td>0.000000</td>\n",
       "      <td>-2.060000</td>\n",
       "      <td>2.472000</td>\n",
       "      <td>126.064000</td>\n",
       "      <td>3.879000</td>\n",
       "    </tr>\n",
       "    <tr>\n",
       "      <th>25%</th>\n",
       "      <td>12.000000</td>\n",
       "      <td>5.533495e+05</td>\n",
       "      <td>0.000000</td>\n",
       "      <td>47.460000</td>\n",
       "      <td>2.933000</td>\n",
       "      <td>131.735000</td>\n",
       "      <td>6.891000</td>\n",
       "    </tr>\n",
       "    <tr>\n",
       "      <th>50%</th>\n",
       "      <td>23.000000</td>\n",
       "      <td>9.607460e+05</td>\n",
       "      <td>0.000000</td>\n",
       "      <td>62.670000</td>\n",
       "      <td>3.445000</td>\n",
       "      <td>182.616521</td>\n",
       "      <td>7.874000</td>\n",
       "    </tr>\n",
       "    <tr>\n",
       "      <th>75%</th>\n",
       "      <td>34.000000</td>\n",
       "      <td>1.420158e+06</td>\n",
       "      <td>0.000000</td>\n",
       "      <td>74.940000</td>\n",
       "      <td>3.735000</td>\n",
       "      <td>212.743293</td>\n",
       "      <td>8.622000</td>\n",
       "    </tr>\n",
       "    <tr>\n",
       "      <th>max</th>\n",
       "      <td>45.000000</td>\n",
       "      <td>3.818686e+06</td>\n",
       "      <td>1.000000</td>\n",
       "      <td>100.140000</td>\n",
       "      <td>4.468000</td>\n",
       "      <td>227.232807</td>\n",
       "      <td>14.313000</td>\n",
       "    </tr>\n",
       "  </tbody>\n",
       "</table>\n",
       "</div>"
      ],
      "text/plain": [
       "             Store  Weekly_Sales  Holiday_Flag  Temperature   Fuel_Price  \\\n",
       "count  6435.000000  6.435000e+03   6435.000000  6435.000000  6435.000000   \n",
       "mean     23.000000  1.046964e+06      0.069930    60.663782     3.358607   \n",
       "std      12.988182  5.643666e+05      0.255049    18.444933     0.459020   \n",
       "min       1.000000  2.099860e+05      0.000000    -2.060000     2.472000   \n",
       "25%      12.000000  5.533495e+05      0.000000    47.460000     2.933000   \n",
       "50%      23.000000  9.607460e+05      0.000000    62.670000     3.445000   \n",
       "75%      34.000000  1.420158e+06      0.000000    74.940000     3.735000   \n",
       "max      45.000000  3.818686e+06      1.000000   100.140000     4.468000   \n",
       "\n",
       "               CPI  Unemployment  \n",
       "count  6435.000000   6435.000000  \n",
       "mean    171.578394      7.999151  \n",
       "std      39.356712      1.875885  \n",
       "min     126.064000      3.879000  \n",
       "25%     131.735000      6.891000  \n",
       "50%     182.616521      7.874000  \n",
       "75%     212.743293      8.622000  \n",
       "max     227.232807     14.313000  "
      ]
     },
     "execution_count": 5,
     "metadata": {},
     "output_type": "execute_result"
    }
   ],
   "source": [
    "walmart_data.describe()"
   ]
  },
  {
   "cell_type": "code",
   "execution_count": 6,
   "metadata": {},
   "outputs": [
    {
     "data": {
      "text/plain": [
       "Store           0\n",
       "Date            0\n",
       "Weekly_Sales    0\n",
       "Holiday_Flag    0\n",
       "Temperature     0\n",
       "Fuel_Price      0\n",
       "CPI             0\n",
       "Unemployment    0\n",
       "dtype: int64"
      ]
     },
     "execution_count": 6,
     "metadata": {},
     "output_type": "execute_result"
    }
   ],
   "source": [
    "walmart_data.isnull().sum()"
   ]
  },
  {
   "cell_type": "code",
   "execution_count": 7,
   "metadata": {},
   "outputs": [
    {
     "data": {
      "text/html": [
       "<div>\n",
       "<style scoped>\n",
       "    .dataframe tbody tr th:only-of-type {\n",
       "        vertical-align: middle;\n",
       "    }\n",
       "\n",
       "    .dataframe tbody tr th {\n",
       "        vertical-align: top;\n",
       "    }\n",
       "\n",
       "    .dataframe thead th {\n",
       "        text-align: right;\n",
       "    }\n",
       "</style>\n",
       "<table border=\"1\" class=\"dataframe\">\n",
       "  <thead>\n",
       "    <tr style=\"text-align: right;\">\n",
       "      <th></th>\n",
       "      <th>Weekly_Sales</th>\n",
       "      <th>Std_dev</th>\n",
       "      <th>Coeff of Variation</th>\n",
       "    </tr>\n",
       "    <tr>\n",
       "      <th>Store</th>\n",
       "      <th></th>\n",
       "      <th></th>\n",
       "      <th></th>\n",
       "    </tr>\n",
       "  </thead>\n",
       "  <tbody>\n",
       "    <tr>\n",
       "      <th>1</th>\n",
       "      <td>222402734</td>\n",
       "      <td>155980.743379</td>\n",
       "      <td>0.100292</td>\n",
       "    </tr>\n",
       "    <tr>\n",
       "      <th>2</th>\n",
       "      <td>275382373</td>\n",
       "      <td>237683.660931</td>\n",
       "      <td>0.123424</td>\n",
       "    </tr>\n",
       "    <tr>\n",
       "      <th>3</th>\n",
       "      <td>57586666</td>\n",
       "      <td>46319.654141</td>\n",
       "      <td>0.115022</td>\n",
       "    </tr>\n",
       "    <tr>\n",
       "      <th>4</th>\n",
       "      <td>299543881</td>\n",
       "      <td>266201.454054</td>\n",
       "      <td>0.127083</td>\n",
       "    </tr>\n",
       "    <tr>\n",
       "      <th>5</th>\n",
       "      <td>45475617</td>\n",
       "      <td>37737.989892</td>\n",
       "      <td>0.118669</td>\n",
       "    </tr>\n",
       "    <tr>\n",
       "      <th>6</th>\n",
       "      <td>223756059</td>\n",
       "      <td>212525.909482</td>\n",
       "      <td>0.135823</td>\n",
       "    </tr>\n",
       "    <tr>\n",
       "      <th>7</th>\n",
       "      <td>81598205</td>\n",
       "      <td>112585.451921</td>\n",
       "      <td>0.197305</td>\n",
       "    </tr>\n",
       "    <tr>\n",
       "      <th>8</th>\n",
       "      <td>129951115</td>\n",
       "      <td>106280.826181</td>\n",
       "      <td>0.116953</td>\n",
       "    </tr>\n",
       "    <tr>\n",
       "      <th>9</th>\n",
       "      <td>77789152</td>\n",
       "      <td>69028.668224</td>\n",
       "      <td>0.126896</td>\n",
       "    </tr>\n",
       "    <tr>\n",
       "      <th>10</th>\n",
       "      <td>271617645</td>\n",
       "      <td>302262.023660</td>\n",
       "      <td>0.159134</td>\n",
       "    </tr>\n",
       "    <tr>\n",
       "      <th>11</th>\n",
       "      <td>193962721</td>\n",
       "      <td>165833.899690</td>\n",
       "      <td>0.122262</td>\n",
       "    </tr>\n",
       "    <tr>\n",
       "      <th>12</th>\n",
       "      <td>144287160</td>\n",
       "      <td>139166.888265</td>\n",
       "      <td>0.137925</td>\n",
       "    </tr>\n",
       "    <tr>\n",
       "      <th>13</th>\n",
       "      <td>286517633</td>\n",
       "      <td>265507.028211</td>\n",
       "      <td>0.132514</td>\n",
       "    </tr>\n",
       "    <tr>\n",
       "      <th>14</th>\n",
       "      <td>288999841</td>\n",
       "      <td>317569.927617</td>\n",
       "      <td>0.157137</td>\n",
       "    </tr>\n",
       "    <tr>\n",
       "      <th>15</th>\n",
       "      <td>89133609</td>\n",
       "      <td>120538.670893</td>\n",
       "      <td>0.193384</td>\n",
       "    </tr>\n",
       "    <tr>\n",
       "      <th>16</th>\n",
       "      <td>74252354</td>\n",
       "      <td>85769.649555</td>\n",
       "      <td>0.165181</td>\n",
       "    </tr>\n",
       "    <tr>\n",
       "      <th>17</th>\n",
       "      <td>127782072</td>\n",
       "      <td>112162.931822</td>\n",
       "      <td>0.125521</td>\n",
       "    </tr>\n",
       "    <tr>\n",
       "      <th>18</th>\n",
       "      <td>155114667</td>\n",
       "      <td>176641.494070</td>\n",
       "      <td>0.162846</td>\n",
       "    </tr>\n",
       "    <tr>\n",
       "      <th>19</th>\n",
       "      <td>206634794</td>\n",
       "      <td>191722.627724</td>\n",
       "      <td>0.132680</td>\n",
       "    </tr>\n",
       "    <tr>\n",
       "      <th>20</th>\n",
       "      <td>301397719</td>\n",
       "      <td>275900.621880</td>\n",
       "      <td>0.130903</td>\n",
       "    </tr>\n",
       "    <tr>\n",
       "      <th>21</th>\n",
       "      <td>108117810</td>\n",
       "      <td>128752.795904</td>\n",
       "      <td>0.170292</td>\n",
       "    </tr>\n",
       "    <tr>\n",
       "      <th>22</th>\n",
       "      <td>147075580</td>\n",
       "      <td>161251.342420</td>\n",
       "      <td>0.156783</td>\n",
       "    </tr>\n",
       "    <tr>\n",
       "      <th>23</th>\n",
       "      <td>198750546</td>\n",
       "      <td>249788.066901</td>\n",
       "      <td>0.179721</td>\n",
       "    </tr>\n",
       "    <tr>\n",
       "      <th>24</th>\n",
       "      <td>194015953</td>\n",
       "      <td>167745.649423</td>\n",
       "      <td>0.123637</td>\n",
       "    </tr>\n",
       "    <tr>\n",
       "      <th>25</th>\n",
       "      <td>101061103</td>\n",
       "      <td>112976.780832</td>\n",
       "      <td>0.159861</td>\n",
       "    </tr>\n",
       "    <tr>\n",
       "      <th>26</th>\n",
       "      <td>143416327</td>\n",
       "      <td>110431.289941</td>\n",
       "      <td>0.110111</td>\n",
       "    </tr>\n",
       "    <tr>\n",
       "      <th>27</th>\n",
       "      <td>253855845</td>\n",
       "      <td>239930.121673</td>\n",
       "      <td>0.135155</td>\n",
       "    </tr>\n",
       "    <tr>\n",
       "      <th>28</th>\n",
       "      <td>189263612</td>\n",
       "      <td>181758.978175</td>\n",
       "      <td>0.137330</td>\n",
       "    </tr>\n",
       "    <tr>\n",
       "      <th>29</th>\n",
       "      <td>77141487</td>\n",
       "      <td>99120.103906</td>\n",
       "      <td>0.183743</td>\n",
       "    </tr>\n",
       "    <tr>\n",
       "      <th>30</th>\n",
       "      <td>62716810</td>\n",
       "      <td>22809.639911</td>\n",
       "      <td>0.052008</td>\n",
       "    </tr>\n",
       "    <tr>\n",
       "      <th>31</th>\n",
       "      <td>199613839</td>\n",
       "      <td>125855.946614</td>\n",
       "      <td>0.090161</td>\n",
       "    </tr>\n",
       "    <tr>\n",
       "      <th>32</th>\n",
       "      <td>166819177</td>\n",
       "      <td>138017.233942</td>\n",
       "      <td>0.118311</td>\n",
       "    </tr>\n",
       "    <tr>\n",
       "      <th>33</th>\n",
       "      <td>37160150</td>\n",
       "      <td>24132.912727</td>\n",
       "      <td>0.092868</td>\n",
       "    </tr>\n",
       "    <tr>\n",
       "      <th>34</th>\n",
       "      <td>138249688</td>\n",
       "      <td>104630.152017</td>\n",
       "      <td>0.108225</td>\n",
       "    </tr>\n",
       "    <tr>\n",
       "      <th>35</th>\n",
       "      <td>131520601</td>\n",
       "      <td>211243.428727</td>\n",
       "      <td>0.229681</td>\n",
       "    </tr>\n",
       "    <tr>\n",
       "      <th>36</th>\n",
       "      <td>53412139</td>\n",
       "      <td>60725.180771</td>\n",
       "      <td>0.162579</td>\n",
       "    </tr>\n",
       "    <tr>\n",
       "      <th>37</th>\n",
       "      <td>74202669</td>\n",
       "      <td>21837.463757</td>\n",
       "      <td>0.042084</td>\n",
       "    </tr>\n",
       "    <tr>\n",
       "      <th>38</th>\n",
       "      <td>55159554</td>\n",
       "      <td>42768.202249</td>\n",
       "      <td>0.110876</td>\n",
       "    </tr>\n",
       "    <tr>\n",
       "      <th>39</th>\n",
       "      <td>207445467</td>\n",
       "      <td>217466.443489</td>\n",
       "      <td>0.149908</td>\n",
       "    </tr>\n",
       "    <tr>\n",
       "      <th>40</th>\n",
       "      <td>137870240</td>\n",
       "      <td>119002.116241</td>\n",
       "      <td>0.123430</td>\n",
       "    </tr>\n",
       "    <tr>\n",
       "      <th>41</th>\n",
       "      <td>181341863</td>\n",
       "      <td>187907.135322</td>\n",
       "      <td>0.148177</td>\n",
       "    </tr>\n",
       "    <tr>\n",
       "      <th>42</th>\n",
       "      <td>79565685</td>\n",
       "      <td>50262.983743</td>\n",
       "      <td>0.090336</td>\n",
       "    </tr>\n",
       "    <tr>\n",
       "      <th>43</th>\n",
       "      <td>90565366</td>\n",
       "      <td>40598.404705</td>\n",
       "      <td>0.064104</td>\n",
       "    </tr>\n",
       "    <tr>\n",
       "      <th>44</th>\n",
       "      <td>43293023</td>\n",
       "      <td>24762.826699</td>\n",
       "      <td>0.081793</td>\n",
       "    </tr>\n",
       "    <tr>\n",
       "      <th>45</th>\n",
       "      <td>112395273</td>\n",
       "      <td>130168.524851</td>\n",
       "      <td>0.165613</td>\n",
       "    </tr>\n",
       "  </tbody>\n",
       "</table>\n",
       "</div>"
      ],
      "text/plain": [
       "       Weekly_Sales        Std_dev  Coeff of Variation\n",
       "Store                                                 \n",
       "1         222402734  155980.743379            0.100292\n",
       "2         275382373  237683.660931            0.123424\n",
       "3          57586666   46319.654141            0.115022\n",
       "4         299543881  266201.454054            0.127083\n",
       "5          45475617   37737.989892            0.118669\n",
       "6         223756059  212525.909482            0.135823\n",
       "7          81598205  112585.451921            0.197305\n",
       "8         129951115  106280.826181            0.116953\n",
       "9          77789152   69028.668224            0.126896\n",
       "10        271617645  302262.023660            0.159134\n",
       "11        193962721  165833.899690            0.122262\n",
       "12        144287160  139166.888265            0.137925\n",
       "13        286517633  265507.028211            0.132514\n",
       "14        288999841  317569.927617            0.157137\n",
       "15         89133609  120538.670893            0.193384\n",
       "16         74252354   85769.649555            0.165181\n",
       "17        127782072  112162.931822            0.125521\n",
       "18        155114667  176641.494070            0.162846\n",
       "19        206634794  191722.627724            0.132680\n",
       "20        301397719  275900.621880            0.130903\n",
       "21        108117810  128752.795904            0.170292\n",
       "22        147075580  161251.342420            0.156783\n",
       "23        198750546  249788.066901            0.179721\n",
       "24        194015953  167745.649423            0.123637\n",
       "25        101061103  112976.780832            0.159861\n",
       "26        143416327  110431.289941            0.110111\n",
       "27        253855845  239930.121673            0.135155\n",
       "28        189263612  181758.978175            0.137330\n",
       "29         77141487   99120.103906            0.183743\n",
       "30         62716810   22809.639911            0.052008\n",
       "31        199613839  125855.946614            0.090161\n",
       "32        166819177  138017.233942            0.118311\n",
       "33         37160150   24132.912727            0.092868\n",
       "34        138249688  104630.152017            0.108225\n",
       "35        131520601  211243.428727            0.229681\n",
       "36         53412139   60725.180771            0.162579\n",
       "37         74202669   21837.463757            0.042084\n",
       "38         55159554   42768.202249            0.110876\n",
       "39        207445467  217466.443489            0.149908\n",
       "40        137870240  119002.116241            0.123430\n",
       "41        181341863  187907.135322            0.148177\n",
       "42         79565685   50262.983743            0.090336\n",
       "43         90565366   40598.404705            0.064104\n",
       "44         43293023   24762.826699            0.081793\n",
       "45        112395273  130168.524851            0.165613"
      ]
     },
     "execution_count": 7,
     "metadata": {},
     "output_type": "execute_result"
    }
   ],
   "source": [
    "walmart_data_grouped_stores = walmart_data.groupby('Store')\n",
    "store_sales_data = pd.DataFrame(walmart_data_grouped_stores['Weekly_Sales'].sum())\n",
    "store_sales_data['Std_dev'] = walmart_data_grouped_stores['Weekly_Sales'].std()\n",
    "store_sales_data['Coeff of Variation'] = walmart_data_grouped_stores['Weekly_Sales'].std()/walmart_data_grouped_stores['Weekly_Sales'].mean()\n",
    "store_sales_data"
   ]
  },
  {
   "cell_type": "markdown",
   "metadata": {},
   "source": [
    "#### max sales is in store 20 and mininmum sales is in store 33.Max standerd deviation for sales is in store 14 and min std deviation is in store 37"
   ]
  },
  {
   "cell_type": "code",
   "execution_count": 8,
   "metadata": {},
   "outputs": [
    {
     "data": {
      "text/html": [
       "<div>\n",
       "<style scoped>\n",
       "    .dataframe tbody tr th:only-of-type {\n",
       "        vertical-align: middle;\n",
       "    }\n",
       "\n",
       "    .dataframe tbody tr th {\n",
       "        vertical-align: top;\n",
       "    }\n",
       "\n",
       "    .dataframe thead th {\n",
       "        text-align: right;\n",
       "    }\n",
       "</style>\n",
       "<table border=\"1\" class=\"dataframe\">\n",
       "  <thead>\n",
       "    <tr style=\"text-align: right;\">\n",
       "      <th></th>\n",
       "      <th>Store</th>\n",
       "      <th>Date</th>\n",
       "      <th>Weekly_Sales</th>\n",
       "      <th>Holiday_Flag</th>\n",
       "      <th>Temperature</th>\n",
       "      <th>Fuel_Price</th>\n",
       "      <th>CPI</th>\n",
       "      <th>Unemployment</th>\n",
       "    </tr>\n",
       "  </thead>\n",
       "  <tbody>\n",
       "    <tr>\n",
       "      <th>0</th>\n",
       "      <td>1</td>\n",
       "      <td>05-02-2010</td>\n",
       "      <td>1643690</td>\n",
       "      <td>0</td>\n",
       "      <td>42.31</td>\n",
       "      <td>2.572</td>\n",
       "      <td>211.096358</td>\n",
       "      <td>8.106</td>\n",
       "    </tr>\n",
       "    <tr>\n",
       "      <th>1</th>\n",
       "      <td>1</td>\n",
       "      <td>12-02-2010</td>\n",
       "      <td>1641957</td>\n",
       "      <td>1</td>\n",
       "      <td>38.51</td>\n",
       "      <td>2.548</td>\n",
       "      <td>211.242170</td>\n",
       "      <td>8.106</td>\n",
       "    </tr>\n",
       "    <tr>\n",
       "      <th>2</th>\n",
       "      <td>1</td>\n",
       "      <td>19-02-2010</td>\n",
       "      <td>1611968</td>\n",
       "      <td>0</td>\n",
       "      <td>39.93</td>\n",
       "      <td>2.514</td>\n",
       "      <td>211.289143</td>\n",
       "      <td>8.106</td>\n",
       "    </tr>\n",
       "    <tr>\n",
       "      <th>3</th>\n",
       "      <td>1</td>\n",
       "      <td>26-02-2010</td>\n",
       "      <td>1409727</td>\n",
       "      <td>0</td>\n",
       "      <td>46.63</td>\n",
       "      <td>2.561</td>\n",
       "      <td>211.319643</td>\n",
       "      <td>8.106</td>\n",
       "    </tr>\n",
       "    <tr>\n",
       "      <th>4</th>\n",
       "      <td>1</td>\n",
       "      <td>05-03-2010</td>\n",
       "      <td>1554806</td>\n",
       "      <td>0</td>\n",
       "      <td>46.50</td>\n",
       "      <td>2.625</td>\n",
       "      <td>211.350143</td>\n",
       "      <td>8.106</td>\n",
       "    </tr>\n",
       "  </tbody>\n",
       "</table>\n",
       "</div>"
      ],
      "text/plain": [
       "   Store        Date  Weekly_Sales  Holiday_Flag  Temperature  Fuel_Price  \\\n",
       "0      1  05-02-2010       1643690             0        42.31       2.572   \n",
       "1      1  12-02-2010       1641957             1        38.51       2.548   \n",
       "2      1  19-02-2010       1611968             0        39.93       2.514   \n",
       "3      1  26-02-2010       1409727             0        46.63       2.561   \n",
       "4      1  05-03-2010       1554806             0        46.50       2.625   \n",
       "\n",
       "          CPI  Unemployment  \n",
       "0  211.096358         8.106  \n",
       "1  211.242170         8.106  \n",
       "2  211.289143         8.106  \n",
       "3  211.319643         8.106  \n",
       "4  211.350143         8.106  "
      ]
     },
     "execution_count": 8,
     "metadata": {},
     "output_type": "execute_result"
    }
   ],
   "source": [
    "walmart_data.head()"
   ]
  },
  {
   "cell_type": "code",
   "execution_count": 9,
   "metadata": {},
   "outputs": [],
   "source": [
    "walmart_data['Date'] = pd.to_datetime(walmart_data['Date'])\n",
    "walmart_2012 = walmart_data.loc[walmart_data['Date'].dt.year == np.int64('2012')]\n",
    "walmart2012_Q3  = walmart_2012.loc[walmart_data['Date'].dt.month.isin(np.int64(['07', '08', '09']))]\n",
    "walmart2012_grouped_Q3 = walmart2012_Q3.groupby('Store')\n",
    "sum_Q3 = walmart2012_grouped_Q3['Weekly_Sales'].sum()"
   ]
  },
  {
   "cell_type": "code",
   "execution_count": 10,
   "metadata": {},
   "outputs": [],
   "source": [
    "walmart2012_Q2  = walmart_2012.loc[walmart_data['Date'].dt.month.isin(np.int64(['04', '05', '06']))]\n",
    "walmart2012_grouped_Q2 = walmart2012_Q2.groupby('Store')\n",
    "sum_Q2 = walmart2012_grouped_Q2['Weekly_Sales'].sum()"
   ]
  },
  {
   "cell_type": "code",
   "execution_count": 11,
   "metadata": {
    "scrolled": true
   },
   "outputs": [
    {
     "data": {
      "text/plain": [
       "Store\n",
       "1    -0.114263\n",
       "2    -0.107165\n",
       "3    -0.107174\n",
       "4    -0.096253\n",
       "5    -0.123472\n",
       "6    -0.115189\n",
       "7    -0.038247\n",
       "8    -0.088855\n",
       "9    -0.121524\n",
       "10   -0.102934\n",
       "11   -0.099822\n",
       "12   -0.107316\n",
       "13   -0.092647\n",
       "14   -0.175511\n",
       "15   -0.121833\n",
       "16   -0.027893\n",
       "17   -0.107199\n",
       "18   -0.095931\n",
       "19   -0.091232\n",
       "20   -0.104690\n",
       "21   -0.089177\n",
       "22   -0.113325\n",
       "23   -0.064527\n",
       "24   -0.092423\n",
       "25   -0.101436\n",
       "26   -0.060576\n",
       "27   -0.106331\n",
       "28   -0.113643\n",
       "29   -0.128883\n",
       "30   -0.104446\n",
       "31   -0.098351\n",
       "32   -0.082585\n",
       "33   -0.095402\n",
       "34   -0.107464\n",
       "35   -0.046631\n",
       "36   -0.125234\n",
       "37   -0.088815\n",
       "38   -0.105204\n",
       "39   -0.063969\n",
       "40   -0.093550\n",
       "41   -0.067565\n",
       "42   -0.102180\n",
       "43   -0.104744\n",
       "44   -0.069882\n",
       "45   -0.138892\n",
       "Name: Weekly_Sales, dtype: float64"
      ]
     },
     "execution_count": 11,
     "metadata": {},
     "output_type": "execute_result"
    }
   ],
   "source": [
    "Q3_performance = (sum_Q3- sum_Q2)/ sum_Q2\n",
    "Q3_performance"
   ]
  },
  {
   "cell_type": "markdown",
   "metadata": {},
   "source": [
    "#### All stores shown a negative performance in quarter 3 2012,  store 35 shown a better performance"
   ]
  },
  {
   "cell_type": "code",
   "execution_count": 12,
   "metadata": {},
   "outputs": [
    {
     "data": {
      "text/plain": [
       "1046964.386013986"
      ]
     },
     "execution_count": 12,
     "metadata": {},
     "output_type": "execute_result"
    }
   ],
   "source": [
    "walmart_data['Weekly_Sales'].mean()"
   ]
  },
  {
   "cell_type": "code",
   "execution_count": 13,
   "metadata": {},
   "outputs": [
    {
     "data": {
      "text/plain": [
       "2011-11-25    11\n",
       "2010-11-26    10\n",
       "2012-10-02     6\n",
       "2010-12-02     5\n",
       "2011-11-02     4\n",
       "2012-07-09     3\n",
       "2011-09-09     3\n",
       "2010-10-09     2\n",
       "2011-12-30     2\n",
       "Name: Date, dtype: int64"
      ]
     },
     "execution_count": 13,
     "metadata": {},
     "output_type": "execute_result"
    }
   ],
   "source": [
    "#Top selling holidays\n",
    "walmart_top_sales = walmart_data[walmart_data['Weekly_Sales'] > 2000000]\n",
    "walmart_top_holidays = walmart_top_sales[walmart_top_sales['Holiday_Flag'] == 1].sort_values(by = 'Weekly_Sales', ascending = False)\n",
    "walmart_top_holidays.Date.value_counts()"
   ]
  },
  {
   "cell_type": "markdown",
   "metadata": {},
   "source": [
    "#### Top sellings are occured on 25 -11 and 26 -11, means thanksgiving holidays have great impact on sellings. Superbowl has also good impact.then labour day and then christmas have impacts on sellings"
   ]
  },
  {
   "cell_type": "code",
   "execution_count": 14,
   "metadata": {},
   "outputs": [
    {
     "data": {
      "image/png": "[encoded data removed]",
      "text/plain": [
       "<Figure size 432x288 with 1 Axes>"
      ]
     },
     "metadata": {
      "needs_background": "light"
     },
     "output_type": "display_data"
    }
   ],
   "source": [
    "walmart_data['Month'] = walmart_data['Date'].dt.month\n",
    "walmart_data['Day'] = walmart_data['Date'].dt.day\n",
    "walmart_data_grouped_month = walmart_data.groupby('Month')\n",
    "walmart_data_grouped_month['Weekly_Sales'].sum().plot(kind = 'bar', color ='r')\n",
    "plt.ylabel('total sales e^')\n",
    "plt.show()"
   ]
  },
  {
   "cell_type": "markdown",
   "metadata": {},
   "source": [
    "#### we can see that most sales have occur in moth of April and least in january.The first quarter has least sales.November month shows a fall in sales , but october and december has high sales, which make up overall Q4 performance.from the month of april to october we can see almost a steady performance in sales"
   ]
  },
  {
   "cell_type": "code",
   "execution_count": 15,
   "metadata": {},
   "outputs": [
    {
     "data": {
      "image/png": "[encoded data removed]",
      "text/plain": [
       "<Figure size 720x504 with 1 Axes>"
      ]
     },
     "metadata": {
      "needs_background": "light"
     },
     "output_type": "display_data"
    }
   ],
   "source": [
    "walmart_data_grouped_day = walmart_data.groupby('Day')\n",
    "walmart_data_grouped_day['Weekly_Sales'].sum().plot(kind = 'bar', color ='r', figsize = (10,7))\n",
    "plt.ylabel('total sales e^')\n",
    "plt.show()"
   ]
  },
  {
   "cell_type": "markdown",
   "metadata": {},
   "source": [
    "#### not much from these graph ...but we can say that the first day and last day of a month shows a drastic fall in sales. people tend to purchase more in the starting of the month usually on second day of month.From the chart we can also analyse that purchases are more on weekdays than holidays( 5 day - 2 day pattern)."
   ]
  },
  {
   "cell_type": "code",
   "execution_count": 16,
   "metadata": {},
   "outputs": [
    {
     "data": {
      "text/html": [
       "<div>\n",
       "<style scoped>\n",
       "    .dataframe tbody tr th:only-of-type {\n",
       "        vertical-align: middle;\n",
       "    }\n",
       "\n",
       "    .dataframe tbody tr th {\n",
       "        vertical-align: top;\n",
       "    }\n",
       "\n",
       "    .dataframe thead th {\n",
       "        text-align: right;\n",
       "    }\n",
       "</style>\n",
       "<table border=\"1\" class=\"dataframe\">\n",
       "  <thead>\n",
       "    <tr style=\"text-align: right;\">\n",
       "      <th></th>\n",
       "      <th>Store</th>\n",
       "      <th>Weekly_Sales</th>\n",
       "      <th>Holiday_Flag</th>\n",
       "      <th>Temperature</th>\n",
       "      <th>Fuel_Price</th>\n",
       "      <th>CPI</th>\n",
       "      <th>Unemployment</th>\n",
       "      <th>Month</th>\n",
       "      <th>Day</th>\n",
       "    </tr>\n",
       "  </thead>\n",
       "  <tbody>\n",
       "    <tr>\n",
       "      <th>Store</th>\n",
       "      <td>1.000000e+00</td>\n",
       "      <td>-0.335332</td>\n",
       "      <td>6.250842e-20</td>\n",
       "      <td>-0.022659</td>\n",
       "      <td>0.060023</td>\n",
       "      <td>-0.209492</td>\n",
       "      <td>0.223531</td>\n",
       "      <td>3.071631e-19</td>\n",
       "      <td>-3.885248e-19</td>\n",
       "    </tr>\n",
       "    <tr>\n",
       "      <th>Weekly_Sales</th>\n",
       "      <td>-3.353320e-01</td>\n",
       "      <td>1.000000</td>\n",
       "      <td>3.689097e-02</td>\n",
       "      <td>-0.063810</td>\n",
       "      <td>0.009464</td>\n",
       "      <td>-0.072634</td>\n",
       "      <td>-0.106176</td>\n",
       "      <td>6.753523e-02</td>\n",
       "      <td>-1.487291e-02</td>\n",
       "    </tr>\n",
       "    <tr>\n",
       "      <th>Holiday_Flag</th>\n",
       "      <td>6.250842e-20</td>\n",
       "      <td>0.036891</td>\n",
       "      <td>1.000000e+00</td>\n",
       "      <td>-0.155091</td>\n",
       "      <td>-0.078347</td>\n",
       "      <td>-0.002162</td>\n",
       "      <td>0.010960</td>\n",
       "      <td>3.322341e-01</td>\n",
       "      <td>-3.603594e-02</td>\n",
       "    </tr>\n",
       "    <tr>\n",
       "      <th>Temperature</th>\n",
       "      <td>-2.265908e-02</td>\n",
       "      <td>-0.063810</td>\n",
       "      <td>-1.550913e-01</td>\n",
       "      <td>1.000000</td>\n",
       "      <td>0.144982</td>\n",
       "      <td>0.176888</td>\n",
       "      <td>0.101158</td>\n",
       "      <td>6.643970e-02</td>\n",
       "      <td>8.901925e-02</td>\n",
       "    </tr>\n",
       "    <tr>\n",
       "      <th>Fuel_Price</th>\n",
       "      <td>6.002295e-02</td>\n",
       "      <td>0.009464</td>\n",
       "      <td>-7.834652e-02</td>\n",
       "      <td>0.144982</td>\n",
       "      <td>1.000000</td>\n",
       "      <td>-0.170642</td>\n",
       "      <td>-0.034684</td>\n",
       "      <td>-5.283174e-02</td>\n",
       "      <td>3.253169e-02</td>\n",
       "    </tr>\n",
       "    <tr>\n",
       "      <th>CPI</th>\n",
       "      <td>-2.094919e-01</td>\n",
       "      <td>-0.072634</td>\n",
       "      <td>-2.162091e-03</td>\n",
       "      <td>0.176888</td>\n",
       "      <td>-0.170642</td>\n",
       "      <td>1.000000</td>\n",
       "      <td>-0.302020</td>\n",
       "      <td>1.478843e-03</td>\n",
       "      <td>3.965821e-03</td>\n",
       "    </tr>\n",
       "    <tr>\n",
       "      <th>Unemployment</th>\n",
       "      <td>2.235313e-01</td>\n",
       "      <td>-0.106176</td>\n",
       "      <td>1.096028e-02</td>\n",
       "      <td>0.101158</td>\n",
       "      <td>-0.034684</td>\n",
       "      <td>-0.302020</td>\n",
       "      <td>1.000000</td>\n",
       "      <td>-2.061552e-03</td>\n",
       "      <td>-8.166853e-03</td>\n",
       "    </tr>\n",
       "    <tr>\n",
       "      <th>Month</th>\n",
       "      <td>3.071631e-19</td>\n",
       "      <td>0.067535</td>\n",
       "      <td>3.322341e-01</td>\n",
       "      <td>0.066440</td>\n",
       "      <td>-0.052832</td>\n",
       "      <td>0.001479</td>\n",
       "      <td>-0.002062</td>\n",
       "      <td>1.000000e+00</td>\n",
       "      <td>5.959249e-03</td>\n",
       "    </tr>\n",
       "    <tr>\n",
       "      <th>Day</th>\n",
       "      <td>-3.885248e-19</td>\n",
       "      <td>-0.014873</td>\n",
       "      <td>-3.603594e-02</td>\n",
       "      <td>0.089019</td>\n",
       "      <td>0.032532</td>\n",
       "      <td>0.003966</td>\n",
       "      <td>-0.008167</td>\n",
       "      <td>5.959249e-03</td>\n",
       "      <td>1.000000e+00</td>\n",
       "    </tr>\n",
       "  </tbody>\n",
       "</table>\n",
       "</div>"
      ],
      "text/plain": [
       "                     Store  Weekly_Sales  Holiday_Flag  Temperature  \\\n",
       "Store         1.000000e+00     -0.335332  6.250842e-20    -0.022659   \n",
       "Weekly_Sales -3.353320e-01      1.000000  3.689097e-02    -0.063810   \n",
       "Holiday_Flag  6.250842e-20      0.036891  1.000000e+00    -0.155091   \n",
       "Temperature  -2.265908e-02     -0.063810 -1.550913e-01     1.000000   \n",
       "Fuel_Price    6.002295e-02      0.009464 -7.834652e-02     0.144982   \n",
       "CPI          -2.094919e-01     -0.072634 -2.162091e-03     0.176888   \n",
       "Unemployment  2.235313e-01     -0.106176  1.096028e-02     0.101158   \n",
       "Month         3.071631e-19      0.067535  3.322341e-01     0.066440   \n",
       "Day          -3.885248e-19     -0.014873 -3.603594e-02     0.089019   \n",
       "\n",
       "              Fuel_Price       CPI  Unemployment         Month           Day  \n",
       "Store           0.060023 -0.209492      0.223531  3.071631e-19 -3.885248e-19  \n",
       "Weekly_Sales    0.009464 -0.072634     -0.106176  6.753523e-02 -1.487291e-02  \n",
       "Holiday_Flag   -0.078347 -0.002162      0.010960  3.322341e-01 -3.603594e-02  \n",
       "Temperature     0.144982  0.176888      0.101158  6.643970e-02  8.901925e-02  \n",
       "Fuel_Price      1.000000 -0.170642     -0.034684 -5.283174e-02  3.253169e-02  \n",
       "CPI            -0.170642  1.000000     -0.302020  1.478843e-03  3.965821e-03  \n",
       "Unemployment   -0.034684 -0.302020      1.000000 -2.061552e-03 -8.166853e-03  \n",
       "Month          -0.052832  0.001479     -0.002062  1.000000e+00  5.959249e-03  \n",
       "Day             0.032532  0.003966     -0.008167  5.959249e-03  1.000000e+00  "
      ]
     },
     "execution_count": 16,
     "metadata": {},
     "output_type": "execute_result"
    }
   ],
   "source": [
    "walmart_data.corr()"
   ]
  },
  {
   "cell_type": "markdown",
   "metadata": {},
   "source": [
    "#### CPI, Unemployement have a negative impact on sales, and fuel price havea slight positive correlation with sales"
   ]
  },
  {
   "cell_type": "code",
   "execution_count": 17,
   "metadata": {},
   "outputs": [
    {
     "data": {
      "text/html": [
       "<div>\n",
       "<style scoped>\n",
       "    .dataframe tbody tr th:only-of-type {\n",
       "        vertical-align: middle;\n",
       "    }\n",
       "\n",
       "    .dataframe tbody tr th {\n",
       "        vertical-align: top;\n",
       "    }\n",
       "\n",
       "    .dataframe thead th {\n",
       "        text-align: right;\n",
       "    }\n",
       "</style>\n",
       "<table border=\"1\" class=\"dataframe\">\n",
       "  <thead>\n",
       "    <tr style=\"text-align: right;\">\n",
       "      <th></th>\n",
       "      <th>Store</th>\n",
       "      <th>Weekly_Sales</th>\n",
       "      <th>Holiday_Flag</th>\n",
       "      <th>Temperature</th>\n",
       "      <th>Fuel_Price</th>\n",
       "      <th>CPI</th>\n",
       "      <th>Unemployment</th>\n",
       "      <th>Month</th>\n",
       "      <th>Day</th>\n",
       "    </tr>\n",
       "  </thead>\n",
       "  <tbody>\n",
       "    <tr>\n",
       "      <th>0</th>\n",
       "      <td>1</td>\n",
       "      <td>1643690</td>\n",
       "      <td>0</td>\n",
       "      <td>42.31</td>\n",
       "      <td>2.572</td>\n",
       "      <td>211.096358</td>\n",
       "      <td>8.106</td>\n",
       "      <td>5</td>\n",
       "      <td>2</td>\n",
       "    </tr>\n",
       "    <tr>\n",
       "      <th>1</th>\n",
       "      <td>1</td>\n",
       "      <td>1641957</td>\n",
       "      <td>1</td>\n",
       "      <td>38.51</td>\n",
       "      <td>2.548</td>\n",
       "      <td>211.242170</td>\n",
       "      <td>8.106</td>\n",
       "      <td>12</td>\n",
       "      <td>2</td>\n",
       "    </tr>\n",
       "    <tr>\n",
       "      <th>2</th>\n",
       "      <td>1</td>\n",
       "      <td>1611968</td>\n",
       "      <td>0</td>\n",
       "      <td>39.93</td>\n",
       "      <td>2.514</td>\n",
       "      <td>211.289143</td>\n",
       "      <td>8.106</td>\n",
       "      <td>2</td>\n",
       "      <td>19</td>\n",
       "    </tr>\n",
       "    <tr>\n",
       "      <th>3</th>\n",
       "      <td>1</td>\n",
       "      <td>1409727</td>\n",
       "      <td>0</td>\n",
       "      <td>46.63</td>\n",
       "      <td>2.561</td>\n",
       "      <td>211.319643</td>\n",
       "      <td>8.106</td>\n",
       "      <td>2</td>\n",
       "      <td>26</td>\n",
       "    </tr>\n",
       "    <tr>\n",
       "      <th>4</th>\n",
       "      <td>1</td>\n",
       "      <td>1554806</td>\n",
       "      <td>0</td>\n",
       "      <td>46.50</td>\n",
       "      <td>2.625</td>\n",
       "      <td>211.350143</td>\n",
       "      <td>8.106</td>\n",
       "      <td>5</td>\n",
       "      <td>3</td>\n",
       "    </tr>\n",
       "  </tbody>\n",
       "</table>\n",
       "</div>"
      ],
      "text/plain": [
       "   Store  Weekly_Sales  Holiday_Flag  Temperature  Fuel_Price         CPI  \\\n",
       "0      1       1643690             0        42.31       2.572  211.096358   \n",
       "1      1       1641957             1        38.51       2.548  211.242170   \n",
       "2      1       1611968             0        39.93       2.514  211.289143   \n",
       "3      1       1409727             0        46.63       2.561  211.319643   \n",
       "4      1       1554806             0        46.50       2.625  211.350143   \n",
       "\n",
       "   Unemployment  Month  Day  \n",
       "0         8.106      5    2  \n",
       "1         8.106     12    2  \n",
       "2         8.106      2   19  \n",
       "3         8.106      2   26  \n",
       "4         8.106      5    3  "
      ]
     },
     "execution_count": 17,
     "metadata": {},
     "output_type": "execute_result"
    }
   ],
   "source": [
    "walmart_data.drop('Date', axis = 1, inplace = True)\n",
    "walmart_data.head()"
   ]
  },
  {
   "cell_type": "code",
   "execution_count": 18,
   "metadata": {},
   "outputs": [
    {
     "data": {
      "image/png": "[encoded data removed]",
      "text/plain": [
       "<Figure size 360x360 with 2 Axes>"
      ]
     },
     "metadata": {
      "needs_background": "light"
     },
     "output_type": "display_data"
    }
   ],
   "source": [
    "plt.figure(figsize = (5, 5))\n",
    "sns.heatmap(walmart_data.corr(), cmap = 'Reds')\n",
    "plt.show()"
   ]
  },
  {
   "cell_type": "code",
   "execution_count": 19,
   "metadata": {},
   "outputs": [],
   "source": [
    "X_data = walmart_data.drop(['Weekly_Sales'], axis = 1)"
   ]
  },
  {
   "cell_type": "code",
   "execution_count": 20,
   "metadata": {},
   "outputs": [],
   "source": [
    "scalar = StandardScaler()"
   ]
  },
  {
   "cell_type": "code",
   "execution_count": 21,
   "metadata": {},
   "outputs": [],
   "source": [
    "y_data = np.log(walmart_data['Weekly_Sales'])"
   ]
  },
  {
   "cell_type": "code",
   "execution_count": 22,
   "metadata": {},
   "outputs": [
    {
     "data": {
      "text/plain": [
       "array([[-1.69397911, -0.27420425, -0.99513556, ...,  0.05696366,\n",
       "        -0.44422923, -1.55946462],\n",
       "       [-1.69397911,  3.64691651, -1.20117022, ...,  0.05696366,\n",
       "         1.66322793, -1.55946462],\n",
       "       [-1.69397911, -0.27420425, -1.12417832, ...,  0.05696366,\n",
       "        -1.34742516,  0.382676  ],\n",
       "       ...,\n",
       "       [ 1.69397911, -0.27420425, -0.33582468, ...,  0.35604577,\n",
       "         1.66322793, -0.64551609],\n",
       "       [ 1.69397911, -0.27420425, -0.22738539, ...,  0.35604577,\n",
       "         1.06109731,  0.382676  ],\n",
       "       [ 1.69397911, -0.27420425, -0.09834264, ...,  0.35604577,\n",
       "         1.06109731,  1.18238096]])"
      ]
     },
     "execution_count": 22,
     "metadata": {},
     "output_type": "execute_result"
    }
   ],
   "source": [
    "scalar.fit_transform(X_data)"
   ]
  },
  {
   "cell_type": "code",
   "execution_count": 23,
   "metadata": {},
   "outputs": [],
   "source": [
    "X_train, X_test, y_train, y_test = train_test_split(X_data, y_data, test_size=0.33, random_state=42)"
   ]
  },
  {
   "cell_type": "code",
   "execution_count": 24,
   "metadata": {},
   "outputs": [],
   "source": [
    "reg = LinearRegression(normalize = True)"
   ]
  },
  {
   "cell_type": "code",
   "execution_count": 25,
   "metadata": {},
   "outputs": [
    {
     "data": {
      "text/plain": [
       "LinearRegression(copy_X=True, fit_intercept=True, n_jobs=None, normalize=True)"
      ]
     },
     "execution_count": 25,
     "metadata": {},
     "output_type": "execute_result"
    }
   ],
   "source": [
    "reg.fit(X_train, y_train)"
   ]
  },
  {
   "cell_type": "code",
   "execution_count": 26,
   "metadata": {},
   "outputs": [],
   "source": [
    "y_predict = reg.predict(X_test)"
   ]
  },
  {
   "cell_type": "code",
   "execution_count": 27,
   "metadata": {},
   "outputs": [
    {
     "data": {
      "text/plain": [
       "array([13.94675616, 13.74022564, 13.91188736, ..., 13.57540798,\n",
       "       13.81925035, 13.87300926])"
      ]
     },
     "execution_count": 27,
     "metadata": {},
     "output_type": "execute_result"
    }
   ],
   "source": [
    "y_predict"
   ]
  },
  {
   "cell_type": "code",
   "execution_count": 29,
   "metadata": {},
   "outputs": [
    {
     "data": {
      "text/plain": [
       "0.12391219619283045"
      ]
     },
     "execution_count": 29,
     "metadata": {},
     "output_type": "execute_result"
    }
   ],
   "source": [
    "r2_score( y_test, y_predict)"
   ]
  },
  {
   "cell_type": "code",
   "execution_count": 30,
   "metadata": {},
   "outputs": [
    {
     "data": {
      "text/plain": [
       "0.4621965983241063"
      ]
     },
     "execution_count": 30,
     "metadata": {},
     "output_type": "execute_result"
    }
   ],
   "source": [
    "mean_absolute_error(y_test, y_predict)"
   ]
  },
  {
   "cell_type": "code",
   "execution_count": 31,
   "metadata": {},
   "outputs": [
    {
     "data": {
      "text/plain": [
       "0.30908369374294836"
      ]
     },
     "execution_count": 31,
     "metadata": {},
     "output_type": "execute_result"
    }
   ],
   "source": [
    "mean_squared_error(y_test, y_predict)"
   ]
  },
  {
   "cell_type": "code",
   "execution_count": 32,
   "metadata": {},
   "outputs": [
    {
     "data": {
      "text/plain": [
       "2436    13.945486\n",
       "3361    14.081599\n",
       "233     14.386092\n",
       "3667    13.890284\n",
       "5011    12.968865\n",
       "Name: Weekly_Sales, dtype: float64"
      ]
     },
     "execution_count": 32,
     "metadata": {},
     "output_type": "execute_result"
    }
   ],
   "source": [
    "y_test.head()"
   ]
  },
  {
   "cell_type": "code",
   "execution_count": 33,
   "metadata": {},
   "outputs": [
    {
     "data": {
      "text/plain": [
       "array([13.94675616, 13.74022564, 13.91188736, 13.8446659 , 13.37691697])"
      ]
     },
     "execution_count": 33,
     "metadata": {},
     "output_type": "execute_result"
    }
   ],
   "source": [
    "y_predict[:5]"
   ]
  },
  {
   "cell_type": "code",
   "execution_count": 34,
   "metadata": {},
   "outputs": [
    {
     "data": {
      "text/plain": [
       "1140247.7912810585"
      ]
     },
     "execution_count": 34,
     "metadata": {},
     "output_type": "execute_result"
    }
   ],
   "source": [
    "np.exp(y_predict[0])"
   ]
  },
  {
   "cell_type": "code",
   "execution_count": 35,
   "metadata": {},
   "outputs": [
    {
     "data": {
      "text/plain": [
       "1138799.9999999993"
      ]
     },
     "execution_count": 35,
     "metadata": {},
     "output_type": "execute_result"
    }
   ],
   "source": [
    "np.exp(y_test).iloc[0]"
   ]
  },
  {
   "cell_type": "markdown",
   "metadata": {},
   "source": [
    "### Although our model's r2 value is less, we can see that the errors MAE, MSE are low and seems the model predicts the values almost accurately with test values we can use this model to predict the sales."
   ]
  },
  {
   "cell_type": "code",
   "execution_count": null,
   "metadata": {},
   "outputs": [],
   "source": []
  },
  {
   "cell_type": "code",
   "execution_count": null,
   "metadata": {},
   "outputs": [],
   "source": []
  }
 ],
 "metadata": {
  "kernelspec": {
   "display_name": "Python 3",
   "language": "python",
   "name": "python3"
  },
  "language_info": {
   "codemirror_mode": {
    "name": "ipython",
    "version": 3
   },
   "file_extension": ".py",
   "mimetype": "text/x-python",
   "name": "python",
   "nbconvert_exporter": "python",
   "pygments_lexer": "ipython3",
   "version": "3.7.3"
  }
 },
 "nbformat": 4,
 "nbformat_minor": 2
}
